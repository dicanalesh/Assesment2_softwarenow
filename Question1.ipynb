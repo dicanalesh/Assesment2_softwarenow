import string

# Invisible markers to remember which branch was used
ZW_FIRST  = "\u200b"  # zero-width space  -> original letter was in first half (A–M or a–m)
ZW_SECOND = "\u200c"  # zero-width non-joiner -> original letter was in second half (N–Z or n–z)

def _is_l_first(c):  # a..m
    return c.islower() and (ord(c) - ord('a') <= 12)

def _is_l_second(c):  # n..z
    return c.islower() and (ord(c) - ord('a') >= 13)

def _is_u_first(c):  # A..M
    return c.isupper() and (ord(c) - ord('A') <= 12)

def _is_u_second(c):  # N..Z
    return c.isupper() and (ord(c) - ord('A') >= 13)

def _shift_alpha(c, k, forward=True):
    """Shift within A–Z or a–z with wraparound."""
    if c.islower():
        alpha = string.ascii_lowercase
    else:
        alpha = string.ascii_uppercase
    i = alpha.index(c)
    j = (i + (k if forward else -k)) % 26
    return alpha[j]

def encrypt_text(plaintext, shift1, shift2):
    """Return ciphertext with invisible markers to make decryption unambiguous."""
    out = []
    k_l_first  = (shift1 * shift2) % 26
    k_l_second = (shift1 + shift2) % 26
    k_u_first  = shift1 % 26
    k_u_second = (shift2 ** 2) % 26

    for ch in plaintext:
        if ch.islower():
            if _is_l_first(ch):
                out.append(ZW_FIRST)
                out.append(_shift_alpha(ch, k_l_first, True))
            elif _is_l_second(ch):
                out.append(ZW_SECOND)
                out.append(_shift_alpha(ch, k_l_second, False))
            else:
                out.append(ch)  # should not happen for standard a–z
        elif ch.isupper():
            if _is_u_first(ch):
                out.append(ZW_FIRST)
                out.append(_shift_alpha(ch, k_u_first, False))
            elif _is_u_second(ch):
                out.append(ZW_SECOND)
                out.append(_shift_alpha(ch, k_u_second, True))
            else:
                out.append(ch)  # should not happen for standard A–Z
        else:
            out.append(ch)  # spaces, tabs, newlines, digits, punctuation unchanged
    return "".join(out)

def decrypt_text(ciphertext, shift1, shift2):
    """Use the invisible markers to invert the transformation exactly."""
    out = []
    k_l_first  = (shift1 * shift2) % 26
    k_l_second = (shift1 + shift2) % 26
    k_u_first  = shift1 % 26
    k_u_second = (shift2 ** 2) % 26

    i = 0
    n = len(ciphertext)
    while i < n:
        ch = ciphertext[i]
        if ch in (ZW_FIRST, ZW_SECOND) and i + 1 < n and ciphertext[i + 1].isalpha():
            marker = ch
            enc = ciphertext[i + 1]
            if enc.islower():
                if marker == ZW_FIRST:
                    orig = _shift_alpha(enc, k_l_first, False)   # reverse forward
                else:
                    orig = _shift_alpha(enc, k_l_second, True)    # reverse backward
            else:  # uppercase
                if marker == ZW_FIRST:
                    orig = _shift_alpha(enc, k_u_first, True)     # reverse backward
                else:
                    orig = _shift_alpha(enc, k_u_second, False)   # reverse forward
            out.append(orig)
            i += 2  # skip marker + letter
        else:
            out.append(ch)  # pass-through (non-letter, or unexpected)
            i += 1
    return "".join(out)

def verify_files(path1, path2):
    with open(path1, "r", encoding="utf-8") as f1, open(path2, "r", encoding="utf-8") as f2:
        a, b = f1.read(), f2.read()
    if a == b:
        print("✅ Decryption successful! The files match.")
    else:
        print("❌ Decryption failed. The files do not match.")

def main():
    shift1 = int(input("Enter shift1: "))
    shift2 = int(input("Enter shift2: "))

    # 1) Read raw_text.txt
    with open("raw_text.txt", "r", encoding="utf-8") as f:
        raw = f.read()

    # 2) Encrypt -> encrypted_text.txt (with invisible markers)
    encrypted = encrypt_text(raw, shift1, shift2)
    with open("encrypted_text.txt", "w", encoding="utf-8") as f:
        f.write(encrypted)

    # 3) Decrypt -> decrypted_text.txt
    decrypted = decrypt_text(encrypted, shift1, shift2)
    with open("decrypted_text.txt", "w", encoding="utf-8") as f:
        f.write(decrypted)

    # 4) Verify round-trip
    verify_files("raw_text.txt", "decrypted_text.txt")

if __name__ == "__main__":
    main()
