{
 "cells": [
  {
   "cell_type": "markdown",
   "id": "c7fb4be7-4e44-4c3d-a402-53b772b5722d",
   "metadata": {},
   "source": [
    "# Q2: TEMPERATURE DATA ANALYSIS"
   ]
  },
  {
   "cell_type": "code",
   "execution_count": 28,
   "id": "66b7f244-8548-4e26-919f-80125472d6d7",
   "metadata": {
    "tags": []
   },
   "outputs": [],
   "source": [
    "# LIBRARIES\n",
    "import os\n",
    "import glob\n",
    "import pandas as pd"
   ]
  },
  {
   "cell_type": "code",
   "execution_count": 29,
   "id": "24e1d67a-2760-4a42-99b6-ee373ce704a6",
   "metadata": {
    "tags": []
   },
   "outputs": [
    {
     "data": {
      "application/vnd.microsoft.datawrangler.viewer.v0+json": {
       "columns": [
        {
         "name": "index",
         "rawType": "int64",
         "type": "integer"
        },
        {
         "name": "STATION_NAME",
         "rawType": "object",
         "type": "string"
        },
        {
         "name": "STN_ID",
         "rawType": "int64",
         "type": "integer"
        },
        {
         "name": "LAT",
         "rawType": "float64",
         "type": "float"
        },
        {
         "name": "LON",
         "rawType": "float64",
         "type": "float"
        },
        {
         "name": "January",
         "rawType": "float64",
         "type": "float"
        },
        {
         "name": "February",
         "rawType": "float64",
         "type": "float"
        },
        {
         "name": "March",
         "rawType": "float64",
         "type": "float"
        },
        {
         "name": "April",
         "rawType": "float64",
         "type": "float"
        },
        {
         "name": "May",
         "rawType": "float64",
         "type": "float"
        },
        {
         "name": "June",
         "rawType": "float64",
         "type": "float"
        },
        {
         "name": "July",
         "rawType": "float64",
         "type": "float"
        },
        {
         "name": "August",
         "rawType": "float64",
         "type": "float"
        },
        {
         "name": "September",
         "rawType": "float64",
         "type": "float"
        },
        {
         "name": "October",
         "rawType": "float64",
         "type": "float"
        },
        {
         "name": "November",
         "rawType": "float64",
         "type": "float"
        },
        {
         "name": "December",
         "rawType": "float64",
         "type": "float"
        }
       ],
       "ref": "98a2c693-dd54-42d8-9c49-713fa528b016",
       "rows": [
        [
         "0",
         "ADELAIDE-KENT-TOWN",
         "23090",
         "-34.92",
         "138.62",
         "31.48",
         "31.37",
         "28.12",
         "24.81",
         "21.28",
         "17.92",
         "17.2",
         "17.87",
         "20.54",
         "22.98",
         "26.65",
         "28.38"
        ],
        [
         "1",
         "ALBANY-AIRPORT-COMPARISON",
         "9741",
         "-34.94",
         "117.8",
         "25.24",
         "26.03",
         "25.45",
         "23.5",
         "20.55",
         "18.0",
         "16.95",
         "17.02",
         "18.34",
         "19.52",
         "21.85",
         "23.75"
        ],
        [
         "2",
         "ALICE-SPRINGS-AIRPORT",
         "15590",
         "-23.8",
         "133.89",
         "38.4",
         "37.32",
         "35.35",
         "31.37",
         "25.18",
         "21.06",
         "20.52",
         "23.71",
         "29.07",
         "31.41",
         "34.38",
         "36.06"
        ],
        [
         "3",
         "AMBERLEY-AMO",
         "40004",
         "-27.63",
         "152.71",
         "32.9",
         "31.87",
         "31.21",
         "29.2",
         "26.06",
         "23.38",
         "22.88",
         "24.12",
         "27.58",
         "29.5",
         "31.04",
         "32.28"
        ],
        [
         "4",
         "BARCALDINE-POST-OFFICE",
         "36007",
         "-23.55",
         "145.29",
         "38.03",
         "36.21",
         "35.41",
         "31.73",
         "27.46",
         "25.21",
         "24.64",
         "26.46",
         "30.75",
         "34.13",
         "35.93",
         "37.41"
        ]
       ],
       "shape": {
        "columns": 16,
        "rows": 5
       }
      },
      "text/html": [
       "<div>\n",
       "<style scoped>\n",
       "    .dataframe tbody tr th:only-of-type {\n",
       "        vertical-align: middle;\n",
       "    }\n",
       "\n",
       "    .dataframe tbody tr th {\n",
       "        vertical-align: top;\n",
       "    }\n",
       "\n",
       "    .dataframe thead th {\n",
       "        text-align: right;\n",
       "    }\n",
       "</style>\n",
       "<table border=\"1\" class=\"dataframe\">\n",
       "  <thead>\n",
       "    <tr style=\"text-align: right;\">\n",
       "      <th></th>\n",
       "      <th>STATION_NAME</th>\n",
       "      <th>STN_ID</th>\n",
       "      <th>LAT</th>\n",
       "      <th>LON</th>\n",
       "      <th>January</th>\n",
       "      <th>February</th>\n",
       "      <th>March</th>\n",
       "      <th>April</th>\n",
       "      <th>May</th>\n",
       "      <th>June</th>\n",
       "      <th>July</th>\n",
       "      <th>August</th>\n",
       "      <th>September</th>\n",
       "      <th>October</th>\n",
       "      <th>November</th>\n",
       "      <th>December</th>\n",
       "    </tr>\n",
       "  </thead>\n",
       "  <tbody>\n",
       "    <tr>\n",
       "      <th>0</th>\n",
       "      <td>ADELAIDE-KENT-TOWN</td>\n",
       "      <td>23090</td>\n",
       "      <td>-34.92</td>\n",
       "      <td>138.62</td>\n",
       "      <td>31.48</td>\n",
       "      <td>31.37</td>\n",
       "      <td>28.12</td>\n",
       "      <td>24.81</td>\n",
       "      <td>21.28</td>\n",
       "      <td>17.92</td>\n",
       "      <td>17.20</td>\n",
       "      <td>17.87</td>\n",
       "      <td>20.54</td>\n",
       "      <td>22.98</td>\n",
       "      <td>26.65</td>\n",
       "      <td>28.38</td>\n",
       "    </tr>\n",
       "    <tr>\n",
       "      <th>1</th>\n",
       "      <td>ALBANY-AIRPORT-COMPARISON</td>\n",
       "      <td>9741</td>\n",
       "      <td>-34.94</td>\n",
       "      <td>117.80</td>\n",
       "      <td>25.24</td>\n",
       "      <td>26.03</td>\n",
       "      <td>25.45</td>\n",
       "      <td>23.50</td>\n",
       "      <td>20.55</td>\n",
       "      <td>18.00</td>\n",
       "      <td>16.95</td>\n",
       "      <td>17.02</td>\n",
       "      <td>18.34</td>\n",
       "      <td>19.52</td>\n",
       "      <td>21.85</td>\n",
       "      <td>23.75</td>\n",
       "    </tr>\n",
       "    <tr>\n",
       "      <th>2</th>\n",
       "      <td>ALICE-SPRINGS-AIRPORT</td>\n",
       "      <td>15590</td>\n",
       "      <td>-23.80</td>\n",
       "      <td>133.89</td>\n",
       "      <td>38.40</td>\n",
       "      <td>37.32</td>\n",
       "      <td>35.35</td>\n",
       "      <td>31.37</td>\n",
       "      <td>25.18</td>\n",
       "      <td>21.06</td>\n",
       "      <td>20.52</td>\n",
       "      <td>23.71</td>\n",
       "      <td>29.07</td>\n",
       "      <td>31.41</td>\n",
       "      <td>34.38</td>\n",
       "      <td>36.06</td>\n",
       "    </tr>\n",
       "    <tr>\n",
       "      <th>3</th>\n",
       "      <td>AMBERLEY-AMO</td>\n",
       "      <td>40004</td>\n",
       "      <td>-27.63</td>\n",
       "      <td>152.71</td>\n",
       "      <td>32.90</td>\n",
       "      <td>31.87</td>\n",
       "      <td>31.21</td>\n",
       "      <td>29.20</td>\n",
       "      <td>26.06</td>\n",
       "      <td>23.38</td>\n",
       "      <td>22.88</td>\n",
       "      <td>24.12</td>\n",
       "      <td>27.58</td>\n",
       "      <td>29.50</td>\n",
       "      <td>31.04</td>\n",
       "      <td>32.28</td>\n",
       "    </tr>\n",
       "    <tr>\n",
       "      <th>4</th>\n",
       "      <td>BARCALDINE-POST-OFFICE</td>\n",
       "      <td>36007</td>\n",
       "      <td>-23.55</td>\n",
       "      <td>145.29</td>\n",
       "      <td>38.03</td>\n",
       "      <td>36.21</td>\n",
       "      <td>35.41</td>\n",
       "      <td>31.73</td>\n",
       "      <td>27.46</td>\n",
       "      <td>25.21</td>\n",
       "      <td>24.64</td>\n",
       "      <td>26.46</td>\n",
       "      <td>30.75</td>\n",
       "      <td>34.13</td>\n",
       "      <td>35.93</td>\n",
       "      <td>37.41</td>\n",
       "    </tr>\n",
       "  </tbody>\n",
       "</table>\n",
       "</div>"
      ],
      "text/plain": [
       "                STATION_NAME  STN_ID    LAT     LON  January  February  March  \\\n",
       "0         ADELAIDE-KENT-TOWN   23090 -34.92  138.62    31.48     31.37  28.12   \n",
       "1  ALBANY-AIRPORT-COMPARISON    9741 -34.94  117.80    25.24     26.03  25.45   \n",
       "2      ALICE-SPRINGS-AIRPORT   15590 -23.80  133.89    38.40     37.32  35.35   \n",
       "3               AMBERLEY-AMO   40004 -27.63  152.71    32.90     31.87  31.21   \n",
       "4     BARCALDINE-POST-OFFICE   36007 -23.55  145.29    38.03     36.21  35.41   \n",
       "\n",
       "   April    May   June   July  August  September  October  November  December  \n",
       "0  24.81  21.28  17.92  17.20   17.87      20.54    22.98     26.65     28.38  \n",
       "1  23.50  20.55  18.00  16.95   17.02      18.34    19.52     21.85     23.75  \n",
       "2  31.37  25.18  21.06  20.52   23.71      29.07    31.41     34.38     36.06  \n",
       "3  29.20  26.06  23.38  22.88   24.12      27.58    29.50     31.04     32.28  \n",
       "4  31.73  27.46  25.21  24.64   26.46      30.75    34.13     35.93     37.41  "
      ]
     },
     "execution_count": 29,
     "metadata": {},
     "output_type": "execute_result"
    }
   ],
   "source": [
    "csv_files = glob.glob(os.path.join(\"temperatures\", \"*.csv\"))\n",
    "dataframes = []\n",
    "for file in csv_files:\n",
    "    df = pd.read_csv(file)\n",
    "    dataframes.append(df)\n",
    "\n",
    "df = pd.concat(dataframes, ignore_index=True)\n",
    "df.head()\n"
   ]
  },
  {
   "cell_type": "markdown",
   "id": "983b4015",
   "metadata": {},
   "source": [
    "### Validation of number of files loaded"
   ]
  },
  {
   "cell_type": "code",
   "execution_count": 30,
   "id": "6746867f-e82d-456e-b3b9-ffe064c4389c",
   "metadata": {
    "tags": []
   },
   "outputs": [
    {
     "name": "stdout",
     "output_type": "stream",
     "text": [
      "we loaded 20 documents for a total of 112 stations.This is teh information of 20.0 years\n"
     ]
    }
   ],
   "source": [
    "N_documents = len(dataframes)\n",
    "N_register = df.shape[0]\n",
    "num_stations=len(df[\"STATION_NAME\"].unique())\n",
    "documents2=N_register / num_stations\n",
    "documents2\n",
    "print(f\"we loaded {N_documents} documents for a total of {num_stations} stations.This is teh information of {documents2} years\")"
   ]
  },
  {
   "cell_type": "markdown",
   "id": "23b53a4a",
   "metadata": {},
   "source": [
    "### Normalization of table\n",
    "The datasets are not normalized, this means that informations that must be one variable are orginized as columns. This doesn't let work with the data in a right way. Because of taht we will transform the columns January, February, March ... in just one column named month. This will let as work and apply tata analysis formulas in a right way."
   ]
  },
  {
   "cell_type": "code",
   "execution_count": 31,
   "id": "782aa78e-0e42-4640-afae-e44b1975db2c",
   "metadata": {
    "tags": []
   },
   "outputs": [
    {
     "data": {
      "application/vnd.microsoft.datawrangler.viewer.v0+json": {
       "columns": [
        {
         "name": "index",
         "rawType": "int64",
         "type": "integer"
        },
        {
         "name": "STATION_NAME",
         "rawType": "object",
         "type": "string"
        },
        {
         "name": "STN_ID",
         "rawType": "int64",
         "type": "integer"
        },
        {
         "name": "LAT",
         "rawType": "float64",
         "type": "float"
        },
        {
         "name": "LON",
         "rawType": "float64",
         "type": "float"
        },
        {
         "name": "month",
         "rawType": "object",
         "type": "string"
        },
        {
         "name": "Temp",
         "rawType": "float64",
         "type": "float"
        }
       ],
       "ref": "eb76b91d-a7f9-433f-941b-e6cac94a7a1c",
       "rows": [
        [
         "0",
         "ADELAIDE-KENT-TOWN",
         "23090",
         "-34.92",
         "138.62",
         "January",
         "31.48"
        ],
        [
         "1",
         "ALBANY-AIRPORT-COMPARISON",
         "9741",
         "-34.94",
         "117.8",
         "January",
         "25.24"
        ],
        [
         "2",
         "ALICE-SPRINGS-AIRPORT",
         "15590",
         "-23.8",
         "133.89",
         "January",
         "38.4"
        ],
        [
         "3",
         "AMBERLEY-AMO",
         "40004",
         "-27.63",
         "152.71",
         "January",
         "32.9"
        ],
        [
         "4",
         "BARCALDINE-POST-OFFICE",
         "36007",
         "-23.55",
         "145.29",
         "January",
         "38.03"
        ]
       ],
       "shape": {
        "columns": 6,
        "rows": 5
       }
      },
      "text/html": [
       "<div>\n",
       "<style scoped>\n",
       "    .dataframe tbody tr th:only-of-type {\n",
       "        vertical-align: middle;\n",
       "    }\n",
       "\n",
       "    .dataframe tbody tr th {\n",
       "        vertical-align: top;\n",
       "    }\n",
       "\n",
       "    .dataframe thead th {\n",
       "        text-align: right;\n",
       "    }\n",
       "</style>\n",
       "<table border=\"1\" class=\"dataframe\">\n",
       "  <thead>\n",
       "    <tr style=\"text-align: right;\">\n",
       "      <th></th>\n",
       "      <th>STATION_NAME</th>\n",
       "      <th>STN_ID</th>\n",
       "      <th>LAT</th>\n",
       "      <th>LON</th>\n",
       "      <th>month</th>\n",
       "      <th>Temp</th>\n",
       "    </tr>\n",
       "  </thead>\n",
       "  <tbody>\n",
       "    <tr>\n",
       "      <th>0</th>\n",
       "      <td>ADELAIDE-KENT-TOWN</td>\n",
       "      <td>23090</td>\n",
       "      <td>-34.92</td>\n",
       "      <td>138.62</td>\n",
       "      <td>January</td>\n",
       "      <td>31.48</td>\n",
       "    </tr>\n",
       "    <tr>\n",
       "      <th>1</th>\n",
       "      <td>ALBANY-AIRPORT-COMPARISON</td>\n",
       "      <td>9741</td>\n",
       "      <td>-34.94</td>\n",
       "      <td>117.80</td>\n",
       "      <td>January</td>\n",
       "      <td>25.24</td>\n",
       "    </tr>\n",
       "    <tr>\n",
       "      <th>2</th>\n",
       "      <td>ALICE-SPRINGS-AIRPORT</td>\n",
       "      <td>15590</td>\n",
       "      <td>-23.80</td>\n",
       "      <td>133.89</td>\n",
       "      <td>January</td>\n",
       "      <td>38.40</td>\n",
       "    </tr>\n",
       "    <tr>\n",
       "      <th>3</th>\n",
       "      <td>AMBERLEY-AMO</td>\n",
       "      <td>40004</td>\n",
       "      <td>-27.63</td>\n",
       "      <td>152.71</td>\n",
       "      <td>January</td>\n",
       "      <td>32.90</td>\n",
       "    </tr>\n",
       "    <tr>\n",
       "      <th>4</th>\n",
       "      <td>BARCALDINE-POST-OFFICE</td>\n",
       "      <td>36007</td>\n",
       "      <td>-23.55</td>\n",
       "      <td>145.29</td>\n",
       "      <td>January</td>\n",
       "      <td>38.03</td>\n",
       "    </tr>\n",
       "  </tbody>\n",
       "</table>\n",
       "</div>"
      ],
      "text/plain": [
       "                STATION_NAME  STN_ID    LAT     LON    month   Temp\n",
       "0         ADELAIDE-KENT-TOWN   23090 -34.92  138.62  January  31.48\n",
       "1  ALBANY-AIRPORT-COMPARISON    9741 -34.94  117.80  January  25.24\n",
       "2      ALICE-SPRINGS-AIRPORT   15590 -23.80  133.89  January  38.40\n",
       "3               AMBERLEY-AMO   40004 -27.63  152.71  January  32.90\n",
       "4     BARCALDINE-POST-OFFICE   36007 -23.55  145.29  January  38.03"
      ]
     },
     "execution_count": 31,
     "metadata": {},
     "output_type": "execute_result"
    }
   ],
   "source": [
    "dfn = pd.melt(\n",
    "    df,\n",
    "    id_vars= [\"STATION_NAME\", \"STN_ID\", \"LAT\", \"LON\"],\n",
    "    value_vars=[\"January\", \"February\", \"March\",\"April\", \"May\", \"June\", \"July\", \"August\", \"September\", \"October\", \"November\", \"December\"],\n",
    "    var_name=\"month\",\n",
    "    value_name=\"Temp\"\n",
    ")\n",
    "dfn.head()"
   ]
  },
  {
   "cell_type": "markdown",
   "id": "80c12673",
   "metadata": {},
   "source": [
    "### Seasons\n",
    "Classify months into seasons\n"
   ]
  },
  {
   "cell_type": "code",
   "execution_count": 32,
   "id": "b6acb336-9e7f-4154-907a-af9e9ded660b",
   "metadata": {
    "tags": []
   },
   "outputs": [
    {
     "data": {
      "application/vnd.microsoft.datawrangler.viewer.v0+json": {
       "columns": [
        {
         "name": "index",
         "rawType": "int64",
         "type": "integer"
        },
        {
         "name": "STATION_NAME",
         "rawType": "object",
         "type": "string"
        },
        {
         "name": "STN_ID",
         "rawType": "int64",
         "type": "integer"
        },
        {
         "name": "LAT",
         "rawType": "float64",
         "type": "float"
        },
        {
         "name": "LON",
         "rawType": "float64",
         "type": "float"
        },
        {
         "name": "month",
         "rawType": "object",
         "type": "string"
        },
        {
         "name": "Temp",
         "rawType": "float64",
         "type": "float"
        },
        {
         "name": "SEASON",
         "rawType": "object",
         "type": "string"
        }
       ],
       "ref": "58d65109-d00e-4663-a2c4-e9b776c86fd0",
       "rows": [
        [
         "0",
         "ADELAIDE-KENT-TOWN",
         "23090",
         "-34.92",
         "138.62",
         "January",
         "31.48",
         "Summer"
        ],
        [
         "1",
         "ALBANY-AIRPORT-COMPARISON",
         "9741",
         "-34.94",
         "117.8",
         "January",
         "25.24",
         "Summer"
        ],
        [
         "2",
         "ALICE-SPRINGS-AIRPORT",
         "15590",
         "-23.8",
         "133.89",
         "January",
         "38.4",
         "Summer"
        ],
        [
         "3",
         "AMBERLEY-AMO",
         "40004",
         "-27.63",
         "152.71",
         "January",
         "32.9",
         "Summer"
        ],
        [
         "4",
         "BARCALDINE-POST-OFFICE",
         "36007",
         "-23.55",
         "145.29",
         "January",
         "38.03",
         "Summer"
        ],
        [
         "5",
         "BATHURST-AGRICULTURAL-STATION",
         "63005",
         "-33.43",
         "149.56",
         "January",
         "30.21",
         "Summer"
        ],
        [
         "6",
         "BIRDSVILLE-AIRPORT",
         "38026",
         "-25.9",
         "139.35",
         "January",
         "40.88",
         "Summer"
        ],
        [
         "7",
         "BOULIA-AIRPORT",
         "38003",
         "-22.91",
         "139.9",
         "January",
         "43.31",
         "Summer"
        ],
        [
         "8",
         "BOURKE-AIRPORT-AWS",
         "48245",
         "-30.04",
         "145.95",
         "January",
         "38.01",
         "Summer"
        ],
        [
         "9",
         "BRIDGETOWN-COMPARISON",
         "9510",
         "-33.96",
         "116.14",
         "January",
         "30.34",
         "Summer"
        ]
       ],
       "shape": {
        "columns": 7,
        "rows": 10
       }
      },
      "text/html": [
       "<div>\n",
       "<style scoped>\n",
       "    .dataframe tbody tr th:only-of-type {\n",
       "        vertical-align: middle;\n",
       "    }\n",
       "\n",
       "    .dataframe tbody tr th {\n",
       "        vertical-align: top;\n",
       "    }\n",
       "\n",
       "    .dataframe thead th {\n",
       "        text-align: right;\n",
       "    }\n",
       "</style>\n",
       "<table border=\"1\" class=\"dataframe\">\n",
       "  <thead>\n",
       "    <tr style=\"text-align: right;\">\n",
       "      <th></th>\n",
       "      <th>STATION_NAME</th>\n",
       "      <th>STN_ID</th>\n",
       "      <th>LAT</th>\n",
       "      <th>LON</th>\n",
       "      <th>month</th>\n",
       "      <th>Temp</th>\n",
       "      <th>SEASON</th>\n",
       "    </tr>\n",
       "  </thead>\n",
       "  <tbody>\n",
       "    <tr>\n",
       "      <th>0</th>\n",
       "      <td>ADELAIDE-KENT-TOWN</td>\n",
       "      <td>23090</td>\n",
       "      <td>-34.92</td>\n",
       "      <td>138.62</td>\n",
       "      <td>January</td>\n",
       "      <td>31.48</td>\n",
       "      <td>Summer</td>\n",
       "    </tr>\n",
       "    <tr>\n",
       "      <th>1</th>\n",
       "      <td>ALBANY-AIRPORT-COMPARISON</td>\n",
       "      <td>9741</td>\n",
       "      <td>-34.94</td>\n",
       "      <td>117.80</td>\n",
       "      <td>January</td>\n",
       "      <td>25.24</td>\n",
       "      <td>Summer</td>\n",
       "    </tr>\n",
       "    <tr>\n",
       "      <th>2</th>\n",
       "      <td>ALICE-SPRINGS-AIRPORT</td>\n",
       "      <td>15590</td>\n",
       "      <td>-23.80</td>\n",
       "      <td>133.89</td>\n",
       "      <td>January</td>\n",
       "      <td>38.40</td>\n",
       "      <td>Summer</td>\n",
       "    </tr>\n",
       "    <tr>\n",
       "      <th>3</th>\n",
       "      <td>AMBERLEY-AMO</td>\n",
       "      <td>40004</td>\n",
       "      <td>-27.63</td>\n",
       "      <td>152.71</td>\n",
       "      <td>January</td>\n",
       "      <td>32.90</td>\n",
       "      <td>Summer</td>\n",
       "    </tr>\n",
       "    <tr>\n",
       "      <th>4</th>\n",
       "      <td>BARCALDINE-POST-OFFICE</td>\n",
       "      <td>36007</td>\n",
       "      <td>-23.55</td>\n",
       "      <td>145.29</td>\n",
       "      <td>January</td>\n",
       "      <td>38.03</td>\n",
       "      <td>Summer</td>\n",
       "    </tr>\n",
       "    <tr>\n",
       "      <th>5</th>\n",
       "      <td>BATHURST-AGRICULTURAL-STATION</td>\n",
       "      <td>63005</td>\n",
       "      <td>-33.43</td>\n",
       "      <td>149.56</td>\n",
       "      <td>January</td>\n",
       "      <td>30.21</td>\n",
       "      <td>Summer</td>\n",
       "    </tr>\n",
       "    <tr>\n",
       "      <th>6</th>\n",
       "      <td>BIRDSVILLE-AIRPORT</td>\n",
       "      <td>38026</td>\n",
       "      <td>-25.90</td>\n",
       "      <td>139.35</td>\n",
       "      <td>January</td>\n",
       "      <td>40.88</td>\n",
       "      <td>Summer</td>\n",
       "    </tr>\n",
       "    <tr>\n",
       "      <th>7</th>\n",
       "      <td>BOULIA-AIRPORT</td>\n",
       "      <td>38003</td>\n",
       "      <td>-22.91</td>\n",
       "      <td>139.90</td>\n",
       "      <td>January</td>\n",
       "      <td>43.31</td>\n",
       "      <td>Summer</td>\n",
       "    </tr>\n",
       "    <tr>\n",
       "      <th>8</th>\n",
       "      <td>BOURKE-AIRPORT-AWS</td>\n",
       "      <td>48245</td>\n",
       "      <td>-30.04</td>\n",
       "      <td>145.95</td>\n",
       "      <td>January</td>\n",
       "      <td>38.01</td>\n",
       "      <td>Summer</td>\n",
       "    </tr>\n",
       "    <tr>\n",
       "      <th>9</th>\n",
       "      <td>BRIDGETOWN-COMPARISON</td>\n",
       "      <td>9510</td>\n",
       "      <td>-33.96</td>\n",
       "      <td>116.14</td>\n",
       "      <td>January</td>\n",
       "      <td>30.34</td>\n",
       "      <td>Summer</td>\n",
       "    </tr>\n",
       "  </tbody>\n",
       "</table>\n",
       "</div>"
      ],
      "text/plain": [
       "                    STATION_NAME  STN_ID    LAT     LON    month   Temp  \\\n",
       "0             ADELAIDE-KENT-TOWN   23090 -34.92  138.62  January  31.48   \n",
       "1      ALBANY-AIRPORT-COMPARISON    9741 -34.94  117.80  January  25.24   \n",
       "2          ALICE-SPRINGS-AIRPORT   15590 -23.80  133.89  January  38.40   \n",
       "3                   AMBERLEY-AMO   40004 -27.63  152.71  January  32.90   \n",
       "4         BARCALDINE-POST-OFFICE   36007 -23.55  145.29  January  38.03   \n",
       "5  BATHURST-AGRICULTURAL-STATION   63005 -33.43  149.56  January  30.21   \n",
       "6             BIRDSVILLE-AIRPORT   38026 -25.90  139.35  January  40.88   \n",
       "7                 BOULIA-AIRPORT   38003 -22.91  139.90  January  43.31   \n",
       "8             BOURKE-AIRPORT-AWS   48245 -30.04  145.95  January  38.01   \n",
       "9          BRIDGETOWN-COMPARISON    9510 -33.96  116.14  January  30.34   \n",
       "\n",
       "   SEASON  \n",
       "0  Summer  \n",
       "1  Summer  \n",
       "2  Summer  \n",
       "3  Summer  \n",
       "4  Summer  \n",
       "5  Summer  \n",
       "6  Summer  \n",
       "7  Summer  \n",
       "8  Summer  \n",
       "9  Summer  "
      ]
     },
     "execution_count": 32,
     "metadata": {},
     "output_type": "execute_result"
    }
   ],
   "source": [
    "season = {\n",
    "    \"January\" : \"Summer\", \n",
    "    \"February\" : \"Summer\", \n",
    "    \"March\" : \"Autumn\",\n",
    "    \"April\" : \"Autumn\", \n",
    "    \"May\" : \"Autumn\", \n",
    "    \"June\" : \"Winter\", \n",
    "    \"July\" : \"Winter\", \n",
    "    \"August\" : \"Winter\", \n",
    "    \"September\" : \"Spring\", \n",
    "    \"October\" : \"Spring\", \n",
    "    \"November\" : \"Spring\", \n",
    "    \"December\" : \"Summer\"\n",
    "}\n",
    "\n",
    "dfn[\"SEASON\"] = dfn[\"month\"].map(season).fillna(\"unclassified\")\n",
    "dfn.head(10)"
   ]
  },
  {
   "cell_type": "code",
   "execution_count": 33,
   "id": "52ccfb9b-2a2c-4451-a343-bd2d0771508c",
   "metadata": {
    "tags": []
   },
   "outputs": [
    {
     "data": {
      "application/vnd.microsoft.datawrangler.viewer.v0+json": {
       "columns": [
        {
         "name": "SEASON",
         "rawType": "object",
         "type": "string"
        },
        {
         "name": "Temp",
         "rawType": "float64",
         "type": "float"
        }
       ],
       "ref": "e92e85af-095a-463d-b994-5c25bde3f4e7",
       "rows": [
        [
         "Autumn",
         "27.3"
        ],
        [
         "Spring",
         "27.4"
        ],
        [
         "Summer",
         "32.1"
        ],
        [
         "Winter",
         "21.1"
        ]
       ],
       "shape": {
        "columns": 1,
        "rows": 4
       }
      },
      "text/plain": [
       "SEASON\n",
       "Autumn    27.3\n",
       "Spring    27.4\n",
       "Summer    32.1\n",
       "Winter    21.1\n",
       "Name: Temp, dtype: float64"
      ]
     },
     "execution_count": 33,
     "metadata": {},
     "output_type": "execute_result"
    }
   ],
   "source": [
    "dfn_AVG_TEMP_SEASON = dfn.groupby(\"SEASON\")[\"Temp\"].mean().round(1)\n",
    "dfn_AVG_TEMP_SEASON"
   ]
  },
  {
   "cell_type": "code",
   "execution_count": 34,
   "id": "fdde2ae8-15fe-4574-96b9-c3d5dacfd947",
   "metadata": {
    "tags": []
   },
   "outputs": [
    {
     "name": "stdout",
     "output_type": "stream",
     "text": [
      "txt created successfully\n"
     ]
    }
   ],
   "source": [
    "file_name = \"average_temp.txt\"\n",
    "\n",
    "if os.path.exists(file_name):\n",
    "    os.remove(file_name)\n",
    "    \n",
    "with open(\"average_temp.txt\", \"w\") as f:\n",
    "    f.write(\"Season\\tTemperature\\n\")\n",
    "    for season, avg in dfn_AVG_TEMP_SEASON.items():\n",
    "        f.write(f\"{season}: {avg}°C\\n\")\n",
    "\n",
    "print(\"txt created successfully\")\n",
    "        "
   ]
  },
  {
   "cell_type": "markdown",
   "id": "2eb04b5c-dd1a-495f-b72d-2062e52f2a54",
   "metadata": {},
   "source": [
    "### Temperature Range"
   ]
  },
  {
   "cell_type": "code",
   "execution_count": 35,
   "id": "030a427f-28ba-42aa-a1f0-1328f511f63a",
   "metadata": {
    "tags": []
   },
   "outputs": [
    {
     "name": "stdout",
     "output_type": "stream",
     "text": [
      "txt created successfully\n"
     ]
    }
   ],
   "source": [
    "dfn_TEMP_RANGE = dfn.groupby(\"STATION_NAME\")[\"Temp\"].agg(\n",
    "    Temp_min=\"min\",\n",
    "    Temp_max=\"max\",\n",
    "    Temp_avg=\"mean\"\n",
    ").reset_index()\n",
    "\n",
    "dfn_TEMP_RANGE[\"Temp_Range\"] = (dfn_TEMP_RANGE[\"Temp_max\"] - dfn_TEMP_RANGE[\"Temp_min\"])\n",
    "\n",
    "dfn_TEMP_RANGE = dfn_TEMP_RANGE.sort_values(by=\"Temp_Range\",ascending=False)\n",
    "#dfn_TEMP_RANGE\n",
    "MAX_RANGE= dfn_TEMP_RANGE[\"Temp_Range\"].max()\n",
    "#MAX_RANGE\n",
    "STATION_MAX_RANGE = dfn_TEMP_RANGE[dfn_TEMP_RANGE[\"Temp_Range\"] == MAX_RANGE]\n",
    "\n",
    "file_name = \"largest_temp_range_station.txt\"\n",
    "\n",
    "if os.path.exists(file_name):\n",
    "    os.remove(file_name)\n",
    "\n",
    "with open(file_name, \"w\") as f:\n",
    "    for _, row in STATION_MAX_RANGE.iterrows():\n",
    "        f.write(f\"Station {row['STATION_NAME']}: Range {round(row['Temp_Range'],1)}°C (Max: {row['Temp_max']}°C, Min: {row['Temp_min']}°C)\\n\")\n",
    "\n",
    "print(\"txt created successfully\")"
   ]
  },
  {
   "cell_type": "markdown",
   "id": "034cdd73-e23f-47d4-915b-b553a6dfba43",
   "metadata": {},
   "source": [
    "### Temperature Stability"
   ]
  },
  {
   "cell_type": "code",
   "execution_count": 36,
   "id": "e5bd66ca-70f0-47bd-a2ff-7117b3f1fdbb",
   "metadata": {
    "tags": []
   },
   "outputs": [
    {
     "name": "stdout",
     "output_type": "stream",
     "text": [
      "txt created successfully\n"
     ]
    }
   ],
   "source": [
    "dfn_std = dfn.groupby(\"STATION_NAME\")[\"Temp\"].agg(\n",
    "    STD = \"std\"\n",
    ").reset_index().round(3)\n",
    "\n",
    "MIN_STD = dfn_std[\"STD\"].min()\n",
    "MAX_STD = dfn_std[\"STD\"].max()\n",
    "STATION_MAX_MIN_STD = dfn_std[(dfn_std[\"STD\"] == MIN_STD) | (dfn_std[\"STD\"] == MAX_STD)]\n",
    "STATION_MAX_MIN_STD\n",
    "\n",
    "file_name = \"temperature_stability_stations.txt\"\n",
    "\n",
    "#Remove the file if it exists\n",
    "if os.path.exists(file_name):\n",
    "    os.remove(file_name)\n",
    "\n",
    "# Write the results to a new file\n",
    "with open(file_name, \"w\") as f:\n",
    "    # most stable station(Min STD)\n",
    "    min_std = STATION_MAX_MIN_STD[\"STD\"].min()\n",
    "    for _, row in STATION_MAX_MIN_STD[STATION_MAX_MIN_STD[\"STD\"] == min_std].iterrows():\n",
    "        f.write(f\"Most Stable: Station {row['STATION_NAME']}: StdDev {row['STD']}°C\\n\")\n",
    "    \n",
    "    # Less Stable Stations (Max STD)\n",
    "    max_std = STATION_MAX_MIN_STD[\"STD\"].max()\n",
    "    for _, row in STATION_MAX_MIN_STD[STATION_MAX_MIN_STD[\"STD\"] == max_std].iterrows():\n",
    "        f.write(f\"Most Variable: Station {row['STATION_NAME']}: StdDev {row['STD']}°C\\n\")\n",
    "\n",
    "print(\"txt created successfully\")"
   ]
  }
 ],
 "metadata": {
  "kernelspec": {
   "display_name": "Python 3",
   "language": "python",
   "name": "python3"
  },
  "language_info": {
   "codemirror_mode": {
    "name": "ipython",
    "version": 3
   },
   "file_extension": ".py",
   "mimetype": "text/x-python",
   "name": "python",
   "nbconvert_exporter": "python",
   "pygments_lexer": "ipython3",
   "version": "3.10.2"
  }
 },
 "nbformat": 4,
 "nbformat_minor": 5
}
